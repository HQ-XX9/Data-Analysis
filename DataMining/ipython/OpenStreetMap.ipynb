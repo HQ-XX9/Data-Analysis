{
 "cells": [
  {
   "cell_type": "markdown",
   "metadata": {},
   "source": [
    "# OpenStreetMap DATA Case"
   ]
  },
  {
   "cell_type": "markdown",
   "metadata": {
    "collapsed": true
   },
   "source": [
    "# 地图"
   ]
  },
  {
   "cell_type": "markdown",
   "metadata": {},
   "source": [
    "Las Vegas, United States"
   ]
  },
  {
   "cell_type": "markdown",
   "metadata": {},
   "source": [
    "https://www.openstreetmap.org/node/31551114#map=10/36.1673/-115.1491"
   ]
  },
  {
   "cell_type": "markdown",
   "metadata": {},
   "source": [
    "https://mapzen.com/data/metro-extracts/metro/las-vegas_nevada/"
   ]
  },
  {
   "cell_type": "markdown",
   "metadata": {},
   "source": [
    "选择拉斯维加斯是因为一直想去，所以也希望借此机会能为它做一些贡献"
   ]
  },
  {
   "cell_type": "markdown",
   "metadata": {},
   "source": [
    "# 处理数据过程遇到的问题"
   ]
  },
  {
   "cell_type": "markdown",
   "metadata": {},
   "source": [
    "1，发现v值的不均匀性，选择改善街道名,即将缩写结尾的改成street,way等的全拼。"
   ]
  },
  {
   "cell_type": "markdown",
   "metadata": {},
   "source": [
    "2，在习题中，update_name 函数我的解决方案如下："
   ]
  },
  {
   "cell_type": "code",
   "execution_count": null,
   "metadata": {
    "collapsed": true
   },
   "outputs": [],
   "source": [
    "def update_name(name, mapping):\n",
    "\n",
    "    # 用find在name中找到mapping中每个mapp，所以这里的逻辑应该是有问题的，函数并不只在name 的结尾处查找，\n",
    "    #所以有可能前面的街道名字中含有mapp，而返回错误的值\n",
    "    for mapp in mapping:\n",
    "        if name.find(mapp)>0:\n",
    "            return (name.replace(mapp,mapping[mapp]))"
   ]
  },
  {
   "cell_type": "markdown",
   "metadata": {},
   "source": [
    "在做习题的时候并没有报错，用我利用课程提供的函数生成的样本也可以，但用真正完整的数据处理时，报错如下："
   ]
  },
  {
   "cell_type": "code",
   "execution_count": null,
   "metadata": {
    "collapsed": true
   },
   "outputs": [],
   "source": [
    "Traceback (most recent call last):\n",
    "\n",
    "  File \"<ipython-input-33-d93e72dc15d5>\", line 1, in <module>\n",
    "    runfile('C:/data analysis/data_2/las-vegas_nevada.osm/sample_project.py', wdir='C:/data analysis/data_2/las-vegas_nevada.osm')\n",
    "\n",
    "  File \"C:\\Anaconda2\\lib\\site-packages\\spyder\\utils\\site\\sitecustomize.py\", line 710, in runfile\n",
    "    execfile(filename, namespace)\n",
    "\n",
    "  File \"C:\\Anaconda2\\lib\\site-packages\\spyder\\utils\\site\\sitecustomize.py\", line 86, in execfile\n",
    "    exec(compile(scripttext, filename, 'exec'), glob, loc)\n",
    "\n",
    "  File \"C:/data analysis/data_2/las-vegas_nevada.osm/sample_project.py\", line 75, in <module>\n",
    "    street_types=audit(OSMFILE)\n",
    "\n",
    "  File \"C:/data analysis/data_2/las-vegas_nevada.osm/sample_project.py\", line 60, in audit\n",
    "    for event, elem in ET.iterparse(osm_file, events=(\"start\",)):\n",
    "\n",
    "  File \"<string>\", line 103, in next\n",
    "\n",
    "IndexError: pop from empty stack"
   ]
  },
  {
   "cell_type": "markdown",
   "metadata": {},
   "source": [
    "百度上看了一下，是关于栈的设置出了问题，同时我在论坛上发现我的update_name 函数并不完整，改善后的函数如下："
   ]
  },
  {
   "cell_type": "code",
   "execution_count": null,
   "metadata": {
    "collapsed": true
   },
   "outputs": [],
   "source": [
    "def update_name(name, mapping):\n",
    "\n",
    "    # 用endswith能够确保只是对name最后结尾的字符进行判断\n",
    "    for mapp in mapping:\n",
    "        if name.endswith(mapp):\n",
    "            return name.replace(mapp,mapping[mapp])\n",
    "            print(name)"
   ]
  },
  {
   "cell_type": "markdown",
   "metadata": {},
   "source": [
    "4，同时，改善街道名的函数需要结合到shape_element函数中，仔细研读了audit_street_type，is_street_name(elem)，audit(osmfile)函数，总结了几点：\n",
    "1),audit_street_type，is_street_name(elem)，是对elem即单个元素进行定义，而audit(osmfile)其实是将前面两个函数结合起来解析数据。\n",
    "2)，并不是要直接改OSM 中的数据，而是改我们解析到内存中的数据，然后写入CSV,所以重点是改善解析进内存的街道名，于是我结合了两个函数改了shape_element函数如下："
   ]
  },
  {
   "cell_type": "code",
   "execution_count": null,
   "metadata": {
    "collapsed": true
   },
   "outputs": [],
   "source": [
    "def shape_element(element, node_attr_fields=NODE_FIELDS, way_attr_fields=WAY_FIELDS,\n",
    "                  problem_chars=PROBLEMCHARS, default_tag_type='regular'):\n",
    "    \"\"\"Clean and shape node or way XML element to Python dict\"\"\"\n",
    "    node_attribs = {}\n",
    "    way_attribs = {}\n",
    "    way_nodes = []\n",
    "    tags = []  # Handle secondary tags the same way for both node and way elements\n",
    "\n",
    "    for tag in element.iter('tag'):\n",
    "        if is_street_name(tag):#判断v的格式\n",
    "            m = street_type_re.search(tag.attrib['v'])#正则判断\n",
    "            if m:\n",
    "                street_type = m.group()#取v的结尾字符\n",
    "                if street_type not in expected:\n",
    "                    tag.attrib['v']=update_name(tag.attrib['v'], mapping)#替换v值\n",
    "                    print tag.attrib['v']\n",
    "        new_tag = shape_tag(element,tag)\n",
    "        if new_tag:\n",
    "             tags.append(new_tag)#填充之前定义的空列表\n",
    "        \n",
    "    if element.tag=='node':\n",
    "        node_attribs={f:element.attrib[f] for f in node_attr_fields}\n",
    "        return {'node':node_attribs,'node_tags':tags}\n",
    "        \n",
    "    elif element.tag=='way':\n",
    "        way_attribs={f:element.attrib[f] for f in way_attr_fields}\n",
    "        way_nodes=[shape_way_node(element,i,nd) for i,nd in enumerate(element.iter('nd'))]\n",
    "        return {'way':way_attribs,'way_nodes':way_nodes,'way_tags':tags}"
   ]
  },
  {
   "cell_type": "markdown",
   "metadata": {},
   "source": [
    "3,关于验证的原题，习题中的验证用到了本地一直不行，Schema 一直报错，于是用了论坛上的方法，注释掉验证."
   ]
  },
  {
   "cell_type": "markdown",
   "metadata": {},
   "source": [
    "# 数据概述"
   ]
  },
  {
   "cell_type": "markdown",
   "metadata": {},
   "source": [
    "1，文件大小，磁盘数据如下："
   ]
  },
  {
   "attachments": {
    "ffe7c8fa291fed6a1f8b565452f751a.png": {
     "image/png": "[encoded data removed]"
    }
   },
   "cell_type": "markdown",
   "metadata": {},
   "source": [
    "![ffe7c8fa291fed6a1f8b565452f751a.png](attachment:ffe7c8fa291fed6a1f8b565452f751a.png)"
   ]
  },
  {
   "cell_type": "markdown",
   "metadata": {},
   "source": [
    "2，唯一用户的数量：1010"
   ]
  },
  {
   "cell_type": "code",
   "execution_count": null,
   "metadata": {
    "collapsed": true
   },
   "outputs": [],
   "source": [
    "select count(*) from(select uid, count(*) from nodes group by uid) as ab;"
   ]
  },
  {
   "cell_type": "markdown",
   "metadata": {},
   "source": [
    "3，节点（key）的数量：431068"
   ]
  },
  {
   "cell_type": "code",
   "execution_count": null,
   "metadata": {
    "collapsed": true
   },
   "outputs": [],
   "source": [
    "select count(key) from ways_tags;"
   ]
  },
  {
   "cell_type": "markdown",
   "metadata": {},
   "source": [
    "4,节点类型为咖啡厅的数量：400"
   ]
  },
  {
   "cell_type": "code",
   "execution_count": null,
   "metadata": {
    "collapsed": true
   },
   "outputs": [],
   "source": [
    "select count(*) from nodes_tags where key=\"cuisine\";"
   ]
  },
  {
   "cell_type": "markdown",
   "metadata": {},
   "source": [
    "5，找出50个咖啡店的纬度："
   ]
  },
  {
   "cell_type": "code",
   "execution_count": null,
   "metadata": {
    "collapsed": true
   },
   "outputs": [],
   "source": [
    "select nodes.lat from nodes, nodes_tags where nodes.id=nodes_tags.id and nodes_tags.key=”cuisine”limit 50；"
   ]
  },
  {
   "cell_type": "markdown",
   "metadata": {},
   "source": [
    "# 关于数据集规范性的其他想法"
   ]
  },
  {
   "cell_type": "markdown",
   "metadata": {},
   "source": [
    "建议：从现在的数据集中的v值和k值可以看出，对于k值和v值是没有定义类型的，其中有店名，道路名，不同语言等等，这样的数据很不规范，也不好分析，建议对k值和v值的输入设置更多子属性"
   ]
  },
  {
   "cell_type": "markdown",
   "metadata": {},
   "source": [
    "好处：数据能够更加清晰明朗，比如v值分为更大类别，大类别下再分为小类别，方便数据分析，如"
   ]
  },
  {
   "cell_type": "markdown",
   "metadata": {},
   "source": [
    "地点信息：城市信息/街道信息等分类"
   ]
  },
  {
   "cell_type": "markdown",
   "metadata": {},
   "source": [
    "店铺类型信息：店铺类型/店名/地址"
   ]
  },
  {
   "cell_type": "markdown",
   "metadata": {},
   "source": [
    "。。。。"
   ]
  },
  {
   "cell_type": "markdown",
   "metadata": {},
   "source": [
    "缺点：可能会出现很多空集，因为并不是所有用户都知道所有的信息，在清理数据时需要注意这些空集的存在"
   ]
  },
  {
   "cell_type": "markdown",
   "metadata": {},
   "source": [
    "# 参考"
   ]
  },
  {
   "cell_type": "markdown",
   "metadata": {},
   "source": [
    "1，Udacity 论坛\n",
    "2，The Python Standard Library"
   ]
  }
 ],
 "metadata": {
  "kernelspec": {
   "display_name": "Python 2",
   "language": "python",
   "name": "python2"
  },
  "language_info": {
   "codemirror_mode": {
    "name": "ipython",
    "version": 2
   },
   "file_extension": ".py",
   "mimetype": "text/x-python",
   "name": "python",
   "nbconvert_exporter": "python",
   "pygments_lexer": "ipython2",
   "version": "2.7.14"
  }
 },
 "nbformat": 4,
 "nbformat_minor": 2
}
